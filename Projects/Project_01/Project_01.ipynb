{
 "cells": [
  {
   "cell_type": "markdown",
   "metadata": {},
   "source": [
    "##### Converting rods to other distances "
   ]
  },
  {
   "cell_type": "code",
   "execution_count": 1,
   "metadata": {},
   "outputs": [
    {
     "name": "stdout",
     "output_type": "stream",
     "text": [
      "input rods1\n",
      "you input 1.0 rods.\n"
     ]
    }
   ],
   "source": [
    "# ask the user for the number of RODS\n",
    "Rods = float(input(\"input rods\")) # 1 rod = 5.0292M\n",
    "print(\"you input\", Rods, \"rods.\")"
   ]
  },
  {
   "cell_type": "code",
   "execution_count": 5,
   "metadata": {},
   "outputs": [
    {
     "name": "stdout",
     "output_type": "stream",
     "text": [
      "Conversions\n",
      "Meters: 5.029\n",
      "Feet: 16.5\n",
      "Miles: 0.003\n",
      "Furlongs: 0.025\n",
      "Minutes to walk 1.0 rods: 0.06\n"
     ]
    }
   ],
   "source": [
    "#constants for calculations \n",
    "RodMeters = 5.0292 \n",
    "walking_speed = 3.1 #mi per hr\n",
    "\n",
    "#calcuating units for other measurements\n",
    "Meters = RodMeters * Rods\n",
    "Furlongs = Rods / 40\n",
    "Miles = Rods * RodMeters /1609.34\n",
    "feet = Meters / .3048\n",
    "TimeWalk = Miles/(walking_speed/60)\n",
    "\n",
    "#output calculations (round answers to 3 decimal places)\n",
    "print(\"Conversions\")\n",
    "print(\"Meters:\", round(Meters, 3))\n",
    "print(\"Feet:\", round(feet, 3))\n",
    "print(\"Miles:\", round(Miles, 3))\n",
    "print(\"Furlongs:\", round(Furlongs, 3))\n",
    "print(\"Minutes to walk\", Rods, \"rods:\", round(TimeWalk, 3))"
   ]
  },
  {
   "cell_type": "code",
   "execution_count": null,
   "metadata": {},
   "outputs": [],
   "source": []
  }
 ],
 "metadata": {
  "kernelspec": {
   "display_name": "Python 3",
   "language": "python",
   "name": "python3"
  },
  "language_info": {
   "codemirror_mode": {
    "name": "ipython",
    "version": 3
   },
   "file_extension": ".py",
   "mimetype": "text/x-python",
   "name": "python",
   "nbconvert_exporter": "python",
   "pygments_lexer": "ipython3",
   "version": "3.7.4"
  }
 },
 "nbformat": 4,
 "nbformat_minor": 2
}
