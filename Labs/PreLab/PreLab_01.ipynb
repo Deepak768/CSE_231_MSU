{
 "cells": [
  {
   "cell_type": "markdown",
   "metadata": {},
   "source": [
    "###### PreLab_01"
   ]
  },
  {
   "cell_type": "code",
   "execution_count": 8,
   "metadata": {},
   "outputs": [
    {
     "name": "stdout",
     "output_type": "stream",
     "text": [
      "\n",
      "Value of A:  2\n",
      "\n",
      "Value of B:  4\n",
      "\n",
      "Value of C:  38\n",
      "\n",
      "Value of D:  -7\n",
      "\n",
      "Value of E:  3\n",
      "\n",
      "Value of E:  2\n",
      "\n",
      "Value of E:  4\n"
     ]
    }
   ],
   "source": [
    "AAA = 8\n",
    "BBB =20\n",
    "CCC =1\n",
    "DDD = 11\n",
    "EEE = 13\n",
    "FFF = 5\n",
    "\n",
    "A = BBB//AAA\n",
    "print(\"\\nValue of A: \", A)\n",
    "\n",
    "B = BBB%AAA\n",
    "print(\"\\nValue of B: \", B)\n",
    "\n",
    "C = DDD*3 + FFF\n",
    "print(\"\\nValue of C: \", C)\n",
    "\n",
    "D = EEE - FFF * 4 # 13 - 5 * 4, follows the pemdas convention\n",
    "print(\"\\nValue of D: \", D)\n",
    "\n",
    "E = EEE // FFF + CCC \n",
    "print(\"\\nValue of E: \", E)\n",
    "\n",
    "F = EEE // (FFF + CCC) \n",
    "print(\"\\nValue of E: \", F)\n",
    "\n",
    "G = FFF//2*2 #\"//\" represents divide and get the whole numbers\n",
    "print(\"\\nValue of E: \", G)\n"
   ]
  },
  {
   "cell_type": "markdown",
   "metadata": {},
   "source": [
    "###### PreLab_02\n"
   ]
  },
  {
   "cell_type": "code",
   "execution_count": 19,
   "metadata": {},
   "outputs": [
    {
     "name": "stdout",
     "output_type": "stream",
     "text": [
      "\n",
      "Value of A: 6\n",
      "\n",
      "Value of B: 15\n",
      "\n",
      "Value of C: 200\n",
      "\n",
      "Value of D: 230\n",
      "\n",
      "Value of E: 230\n",
      "\n",
      "Value of F: -6\n",
      "\n",
      "Value of G: 2\n",
      "\n",
      "Value of H: 1\n",
      "\n",
      "Value of J: 36\n",
      "\n",
      "Value of I: 36\n"
     ]
    }
   ],
   "source": [
    "AAA = 7\n",
    "BBB = 20\n",
    "\n",
    "A = 5\n",
    "A +=1\n",
    "\n",
    "print(\"\\nValue of A:\",A)\n",
    "\n",
    "B = 8\n",
    "B += AAA\n",
    "print(\"\\nValue of B:\", B)\n",
    "\n",
    "C = 10\n",
    "C *= BBB\n",
    "print(\"\\nValue of C:\", C)\n",
    "\n",
    "D = 10\n",
    "D *= (BBB+3)\n",
    "print(\"\\nValue of D:\", D)\n",
    "\n",
    "E = 10\n",
    "E *= BBB +3  #so it add it first and then times it by 10*23\n",
    "print(\"\\nValue of E:\", E)\n",
    "\n",
    "F = 14\n",
    "F -= BBB #14 -20\n",
    "print(\"\\nValue of F:\", F)\n",
    "\n",
    "G = 25\n",
    "G -= BBB +3 # 25 - (20+3)\n",
    "print(\"\\nValue of G:\", G)\n",
    "\n",
    "H = 25\n",
    "H %= 3\n",
    "print(\"\\nValue of H:\",H)\n",
    "\n",
    "J = I = 36\n",
    "\n",
    "print(\"\\nValue of J:\",J)\n",
    "print(\"\\nValue of I:\",I)\n"
   ]
  },
  {
   "cell_type": "markdown",
   "metadata": {},
   "source": [
    "###### PreLab_03"
   ]
  },
  {
   "cell_type": "code",
   "execution_count": 28,
   "metadata": {},
   "outputs": [
    {
     "name": "stdout",
     "output_type": "stream",
     "text": [
      "\n",
      "Value of A:  17\n",
      "\n",
      "Value of B: 22\n",
      "\n",
      "Value of C: 13\n",
      "\n",
      "Value of D: 0\n",
      "\n",
      "Value of E: 1199\n",
      "\n",
      "Value of X: 13.0\n",
      "\n",
      "Value of Y: 6.0\n"
     ]
    }
   ],
   "source": [
    "AAA = 9\n",
    "BBB = 13\n",
    "\n",
    "XXX = 17.9\n",
    "YYY = 1.2e+3\n",
    "ZZZ = 5.625e-12\n",
    "\n",
    "A = int(XXX)\n",
    "print(\"\\nValue of A: \", A)\n",
    "\n",
    "B = int(XXX + 4.8) # first does the calcuation inside the () then converts\n",
    "print(\"\\nValue of B:\", B)\n",
    "\n",
    "C = int(XXX - AAA // 2)\n",
    "print(\"\\nValue of C:\", C)\n",
    "\n",
    "D = int(ZZZ)\n",
    "print(\"\\nValue of D:\", D)\n",
    "\n",
    "E = int(YYY - ZZZ)\n",
    "print(\"\\nValue of E:\", E)\n",
    "\n",
    "X = float(BBB)\n",
    "print(\"\\nValue of X:\", X)\n",
    "\n",
    "Y = float(BBB//2)\n",
    "print(\"\\nValue of Y:\", Y)\n"
   ]
  },
  {
   "cell_type": "code",
   "execution_count": null,
   "metadata": {},
   "outputs": [],
   "source": []
  }
 ],
 "metadata": {
  "kernelspec": {
   "display_name": "Python 3",
   "language": "python",
   "name": "python3"
  },
  "language_info": {
   "codemirror_mode": {
    "name": "ipython",
    "version": 3
   },
   "file_extension": ".py",
   "mimetype": "text/x-python",
   "name": "python",
   "nbconvert_exporter": "python",
   "pygments_lexer": "ipython3",
   "version": "3.7.4"
  }
 },
 "nbformat": 4,
 "nbformat_minor": 2
}
